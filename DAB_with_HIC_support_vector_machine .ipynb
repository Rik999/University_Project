{
 "cells": [
  {
   "cell_type": "markdown",
   "metadata": {
    "id": "0MRC0e0KhQ0S"
   },
   "source": [
    "# Support Vector Machine (SVM)"
   ]
  },
  {
   "cell_type": "markdown",
   "metadata": {
    "id": "LWd1UlMnhT2s"
   },
   "source": [
    "## Importing the libraries"
   ]
  },
  {
   "cell_type": "code",
   "execution_count": null,
   "metadata": {
    "id": "INxUNGlXGDUt"
   },
   "outputs": [],
   "source": [
    "import numpy as np\n",
    "import matplotlib.pyplot as plt\n",
    "import pandas as pd"
   ]
  },
  {
   "cell_type": "markdown",
   "metadata": {
    "id": "K1VMqkGvhc3-"
   },
   "source": [
    "## Importing the dataset"
   ]
  },
  {
   "cell_type": "code",
   "execution_count": null,
   "metadata": {
    "id": "M52QDmyzhh9s"
   },
   "outputs": [],
   "source": [
    "dataset = pd.read_csv('Airbag_Must_Rec_No.csv')\n",
    "X = dataset.iloc[:, [0,1,2,3,4]].values\n",
    "y = dataset.iloc[:, 7].values"
   ]
  },
  {
   "cell_type": "code",
   "execution_count": null,
   "metadata": {
    "colab": {
     "base_uri": "https://localhost:8080/"
    },
    "id": "rSnKH6ko4GAz",
    "outputId": "807759ee-dbd5-4ad4-b9b6-8c11ad683614"
   },
   "outputs": [],
   "source": [
    "print(X)\n"
   ]
  },
  {
   "cell_type": "code",
   "execution_count": null,
   "metadata": {
    "colab": {
     "base_uri": "https://localhost:8080/"
    },
    "id": "xQOGuZHK4GA0",
    "outputId": "6fe16fd5-c361-4047-bb4a-dc05a85acf7f"
   },
   "outputs": [],
   "source": [
    "print(y)"
   ]
  },
  {
   "cell_type": "code",
   "execution_count": null,
   "metadata": {},
   "outputs": [],
   "source": [
    "## encoding y variables \n",
    "\n",
    "from sklearn.preprocessing import LabelEncoder\n",
    "le = LabelEncoder()\n",
    "y = le.fit_transform(y)\n",
    "print(y)"
   ]
  },
  {
   "cell_type": "markdown",
   "metadata": {
    "id": "YvxIPVyMhmKp"
   },
   "source": [
    "## Splitting the dataset into the Training set and Test set"
   ]
  },
  {
   "cell_type": "code",
   "execution_count": null,
   "metadata": {
    "id": "AVzJWAXIhxoC"
   },
   "outputs": [],
   "source": [
    "from sklearn.model_selection import train_test_split\n",
    "X_train, X_test, y_train, y_test = train_test_split(X, y, test_size = 0.25, random_state = 0)"
   ]
  },
  {
   "cell_type": "code",
   "execution_count": null,
   "metadata": {
    "colab": {
     "base_uri": "https://localhost:8080/"
    },
    "id": "jdZZITKl4GA0",
    "outputId": "0fcdc8e1-2a1c-48f7-eeae-5f54b1aad7c7"
   },
   "outputs": [],
   "source": [
    "print(X_train)\n"
   ]
  },
  {
   "cell_type": "code",
   "execution_count": null,
   "metadata": {
    "colab": {
     "base_uri": "https://localhost:8080/"
    },
    "id": "nC-xvvz34GA0",
    "outputId": "26666321-5db9-4441-e04e-06e5d7a2db04"
   },
   "outputs": [],
   "source": [
    "print(y_train)"
   ]
  },
  {
   "cell_type": "code",
   "execution_count": null,
   "metadata": {
    "colab": {
     "base_uri": "https://localhost:8080/"
    },
    "id": "IstLddVC4GA0",
    "outputId": "6b654163-c6e4-4bda-b7ba-071db2401755"
   },
   "outputs": [],
   "source": [
    "print(X_test)\n"
   ]
  },
  {
   "cell_type": "code",
   "execution_count": null,
   "metadata": {
    "colab": {
     "base_uri": "https://localhost:8080/"
    },
    "id": "lFkys72l4GA0",
    "outputId": "060c1f0e-3a29-41f7-c5e7-726f40d867bd"
   },
   "outputs": [],
   "source": [
    "print(y_test)\n"
   ]
  },
  {
   "cell_type": "code",
   "execution_count": null,
   "metadata": {},
   "outputs": [],
   "source": []
  },
  {
   "cell_type": "markdown",
   "metadata": {
    "id": "kW3c7UYih0hT"
   },
   "source": [
    "## Feature Scaling"
   ]
  },
  {
   "cell_type": "code",
   "execution_count": null,
   "metadata": {
    "id": "9fQlDPKCh8sc"
   },
   "outputs": [],
   "source": [
    "from sklearn.preprocessing import StandardScaler\n",
    "sc = StandardScaler()\n",
    "X_train = sc.fit_transform(X_train)\n",
    "X_test = sc.transform(X_test)"
   ]
  },
  {
   "cell_type": "code",
   "execution_count": null,
   "metadata": {
    "colab": {
     "base_uri": "https://localhost:8080/"
    },
    "id": "XG-t0dNC4GA0",
    "outputId": "89e544ad-6c51-458c-a37e-5d98826a6589"
   },
   "outputs": [],
   "source": [
    "print(X_train)\n"
   ]
  },
  {
   "cell_type": "code",
   "execution_count": null,
   "metadata": {
    "colab": {
     "base_uri": "https://localhost:8080/"
    },
    "id": "FdP0YFe64GA0",
    "outputId": "12bf0b8d-942b-4f26-c69b-3b0cfd526007"
   },
   "outputs": [],
   "source": [
    "print(X_test)\n"
   ]
  },
  {
   "cell_type": "markdown",
   "metadata": {
    "id": "bb6jCOCQiAmP"
   },
   "source": [
    "## Training the SVM model on the Training set"
   ]
  },
  {
   "cell_type": "code",
   "execution_count": 94,
   "metadata": {
    "colab": {
     "base_uri": "https://localhost:8080/"
    },
    "id": "e0pFVAmciHQs",
    "outputId": "9fa29f7f-e48d-4664-c860-c5f060426b42"
   },
   "outputs": [
    {
     "data": {
      "text/plain": [
       "SVC(C=3, cache_size=100, decision_function_shape='ovo', kernel='linear',\n",
       "    random_state=0)"
      ]
     },
     "execution_count": 94,
     "metadata": {},
     "output_type": "execute_result"
    }
   ],
   "source": [
    "from sklearn.svm import LinearSVC\n",
    "classifier = SVC(kernel='linear', random_state=0, C = 3, cache_size = 100, decision_function_shape = 'ovo', max_iter = -1)\n",
    "classifier.fit(X_train, y_train)"
   ]
  },
  {
   "cell_type": "markdown",
   "metadata": {
    "id": "wYokDw3q4GA1"
   },
   "source": [
    "## XG Boost"
   ]
  },
  {
   "cell_type": "code",
   "execution_count": 95,
   "metadata": {
    "colab": {
     "base_uri": "https://localhost:8080/"
    },
    "id": "Nlb3bQ5J4GA1",
    "outputId": "71b91be9-aec7-400b-9d56-69c52169b7b6"
   },
   "outputs": [],
   "source": [
    "# from xgboost import XGBClassifier\n",
    "# classifier = XGBClassifier()\n",
    "# classifier.fit(X_train, y_train)"
   ]
  },
  {
   "cell_type": "markdown",
   "metadata": {
    "id": "_ze4huIr4GA1"
   },
   "source": [
    "## predicting a new result"
   ]
  },
  {
   "cell_type": "code",
   "execution_count": 96,
   "metadata": {
    "colab": {
     "base_uri": "https://localhost:8080/"
    },
    "id": "OAlJlFQ84GA1",
    "outputId": "e1ae259b-46eb-4675-9271-d07981867ffd"
   },
   "outputs": [],
   "source": [
    "\n",
    "# y_predict = print(classifier.predict(sc.transform([[50,61,0]])))\n",
    "\n",
    "# print(dataset.iloc[11,1:-2].values)\n"
   ]
  },
  {
   "cell_type": "markdown",
   "metadata": {
    "id": "gV6ZnWZ5fGPd"
   },
   "source": [
    "## Prediction of data and Comparison "
   ]
  },
  {
   "cell_type": "code",
   "execution_count": 97,
   "metadata": {
    "colab": {
     "base_uri": "https://localhost:8080/"
    },
    "id": "7uREFfR74GA1",
    "outputId": "5c022eaa-94d6-4601-c486-72258a8aa973"
   },
   "outputs": [],
   "source": [
    "\n",
    "# y_pred = classifier.predict(X_test)\n",
    "\n",
    "# print(np.concatenate((y_pred.reshape(len(y_pred),1), y_test.reshape(len(y_test),1)),1))"
   ]
  },
  {
   "cell_type": "markdown",
   "metadata": {
    "id": "h4Hwj34ziWQW"
   },
   "source": [
    "## Making the Confusion Matrix"
   ]
  },
  {
   "cell_type": "code",
   "execution_count": 98,
   "metadata": {
    "colab": {
     "base_uri": "https://localhost:8080/"
    },
    "id": "D6bpZwUiiXic",
    "outputId": "da5dff15-c217-4117-8763-2c085f9ef35f"
   },
   "outputs": [
    {
     "name": "stdout",
     "output_type": "stream",
     "text": [
      "[[66  6  0]\n",
      " [ 8 87  0]\n",
      " [11 18  0]]\n",
      "0.7806122448979592\n"
     ]
    }
   ],
   "source": [
    "from sklearn.metrics import confusion_matrix, accuracy_score\n",
    "y_pred = classifier.predict(X_test)\n",
    "cm = confusion_matrix(y_test, y_pred)\n",
    "print(cm)\n",
    "print(accuracy_score(y_test, y_pred))"
   ]
  },
  {
   "cell_type": "markdown",
   "metadata": {
    "id": "tvRvyMdx4GA1"
   },
   "source": [
    "## K Fold cross validation score\n",
    "\n",
    "\n"
   ]
  },
  {
   "cell_type": "code",
   "execution_count": 99,
   "metadata": {
    "colab": {
     "base_uri": "https://localhost:8080/"
    },
    "id": "-ITRIBWk4GA1",
    "outputId": "fe3536e7-6fdb-4930-e495-4f0cffe40e5f"
   },
   "outputs": [
    {
     "name": "stdout",
     "output_type": "stream",
     "text": [
      "accuracies: 82.255991 %\n",
      "Standard Deviation: 2.632760%\n"
     ]
    }
   ],
   "source": [
    "from sklearn.model_selection import KFold\n",
    "from sklearn.model_selection import cross_val_score\n",
    "\n",
    "accuracies = cross_val_score(estimator=classifier, X = X_train, y=y_train, cv=10)\n",
    "print('accuracies: {:2f} %'.format(accuracies.mean()*100))\n",
    "print('Standard Deviation: {:2f}%'.format(accuracies.std()*100))"
   ]
  },
  {
   "cell_type": "markdown",
   "metadata": {
    "id": "cFy3WJID4GA1"
   },
   "source": [
    "## Applying grid search to find the best model and best performance\n"
   ]
  },
  {
   "cell_type": "code",
   "execution_count": null,
   "metadata": {},
   "outputs": [],
   "source": [
    "from sklearn.model_selection import GridSearchCV\n",
    "parameters = [{'C':range(0,5,1), \n",
    "               'kernel':['linear'],\n",
    "               'cache_size':[100,200,300,400,500],\n",
    "               'decision_function_shape':['ovo', 'ovr'],\n",
    "               'random_state': range(0,5,1),\n",
    "               'max_iter': [-1,0,1],}]\n",
    " \n",
    "grid_search = GridSearchCV(estimator=classifier, \n",
    "                           param_grid = parameters, \n",
    "                           scoring='accuracy', \n",
    "                           n_jobs=-1, \n",
    "                           cv = 10)\n",
    "grid_search.fit(X_train,y_train)\n",
    "best_accuracy = grid_search.best_score_\n",
    "best_parameters =grid_search.best_params_\n",
    "print('Best accuracies: {:2f} %'.format(best_accuracy*100))\n",
    "print('Best parameters:',best_parameters)"
   ]
  },
  {
   "cell_type": "markdown",
   "metadata": {
    "id": "n7kpnTvp49Cr"
   },
   "source": [
    " ## Visualising the Training set results"
   ]
  },
  {
   "cell_type": "code",
   "execution_count": null,
   "metadata": {},
   "outputs": [],
   "source": []
  },
  {
   "cell_type": "code",
   "execution_count": null,
   "metadata": {},
   "outputs": [],
   "source": []
  }
 ],
 "metadata": {
  "colab": {
   "collapsed_sections": [],
   "machine_shape": "hm",
   "name": "support_vector_machine.ipynb",
   "provenance": [],
   "toc_visible": true
  },
  "kernelspec": {
   "display_name": "Python 3",
   "language": "python",
   "name": "python3"
  },
  "language_info": {
   "codemirror_mode": {
    "name": "ipython",
    "version": 3
   },
   "file_extension": ".py",
   "mimetype": "text/x-python",
   "name": "python",
   "nbconvert_exporter": "python",
   "pygments_lexer": "ipython3",
   "version": "3.8.3"
  }
 },
 "nbformat": 4,
 "nbformat_minor": 4
}
